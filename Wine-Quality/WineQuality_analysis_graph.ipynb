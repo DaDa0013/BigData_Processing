{
 "cells": [
  {
   "cell_type": "markdown",
   "id": "cfa98158",
   "metadata": {},
   "source": [
    "# CSV 파일 정리"
   ]
  },
  {
   "cell_type": "markdown",
   "id": "80793882",
   "metadata": {},
   "source": [
    "<b>01행</b> 테이블 형태의 CSV 파일을 다루기 위해 pandas 라이브러리 패키지를 pd 이름으로 로드<br><br>\n",
    "<b>02-03행:</b> pandas의 read_csv() 함수를 사용해 CSV 파일을 읽어온음 이때 CSV 파일 데이터의 열 구분자를 세미콜론으로 지정하기 위해 sep 매개변수 값을 ‘;’으로 지정 <br><br>\n",
    "<b>04-05행:</b> pandas로 읽은 CSV 데이터는 테이블 형태의 DataFrame 객체(red_df, white_df)에 있음<br><br>\n",
    "이 상태 그대로 CSV 파일로 저장"
   ]
  },
  {
   "cell_type": "code",
   "execution_count": 1,
   "id": "c27d4089",
   "metadata": {},
   "outputs": [],
   "source": [
    "import pandas as pd"
   ]
  },
  {
   "cell_type": "code",
   "execution_count": null,
   "id": "775ca411",
   "metadata": {},
   "outputs": [],
   "source": [
    "red_df = pd.read_csv('winequality-red.csv', sep=';', header = 0, engine = 'python')\n",
    "white_df = pd.read_csv('winequality-white.csv', sep=';', header = 0, engine = 'python')\n",
    "red_df.to_csv('')"
   ]
  }
 ],
 "metadata": {
  "kernelspec": {
   "display_name": "Python 3",
   "language": "python",
   "name": "python3"
  },
  "language_info": {
   "codemirror_mode": {
    "name": "ipython",
    "version": 3
   },
   "file_extension": ".py",
   "mimetype": "text/x-python",
   "name": "python",
   "nbconvert_exporter": "python",
   "pygments_lexer": "ipython3",
   "version": "3.8.8"
  }
 },
 "nbformat": 4,
 "nbformat_minor": 5
}
