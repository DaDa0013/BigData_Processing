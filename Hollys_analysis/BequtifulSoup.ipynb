{
 "cells": [
  {
   "cell_type": "markdown",
   "id": "e4fabaa9",
   "metadata": {},
   "source": [
    "# BeautifulSoup 연습하기 1"
   ]
  },
  {
   "cell_type": "code",
   "execution_count": 1,
   "id": "cba3e6db",
   "metadata": {},
   "outputs": [
    {
     "name": "stdout",
     "output_type": "stream",
     "text": [
      "Requirement already satisfied: beautifulsoup4 in c:\\users\\yttn0\\anaconda3\\lib\\site-packages (4.9.3)\n",
      "Requirement already satisfied: soupsieve>1.2 in c:\\users\\yttn0\\anaconda3\\lib\\site-packages (from beautifulsoup4) (2.2.1)\n",
      "Note: you may need to restart the kernel to use updated packages.\n"
     ]
    }
   ],
   "source": [
    "pip install beautifulsoup4"
   ]
  },
  {
   "cell_type": "code",
   "execution_count": 2,
   "id": "5a9d33a1",
   "metadata": {},
   "outputs": [],
   "source": [
    "from bs4 import BeautifulSoup"
   ]
  },
  {
   "cell_type": "code",
   "execution_count": 3,
   "id": "d58a80ab",
   "metadata": {},
   "outputs": [],
   "source": [
    "html = '<h1 id=\"title\">한빛출판네트워크</h1><div class=\"top\"><ul class=\"menu\"><li><a href=\"http://www.hanbit.co.kr/member/login.html \"class=\"login\">로그인 </a></li></ul><ul class=\"brand\"><li><a href=\"http://www.hanbit.co.kr/media/\">한빛미디어</a></li><li><a href=\"http://www.hanbit.co.kr/academy/\">한빛아카데미</a></li></ul></div>'"
   ]
  },
  {
   "cell_type": "code",
   "execution_count": 4,
   "id": "bc9cd938",
   "metadata": {},
   "outputs": [],
   "source": [
    "soup = BeautifulSoup(html, 'html.parser')"
   ]
  },
  {
   "cell_type": "code",
   "execution_count": 5,
   "id": "2cc796fd",
   "metadata": {},
   "outputs": [
    {
     "name": "stdout",
     "output_type": "stream",
     "text": [
      "<h1 id=\"title\">\n",
      " 한빛출판네트워크\n",
      "</h1>\n",
      "<div class=\"top\">\n",
      " <ul class=\"menu\">\n",
      "  <li>\n",
      "   <a class=\"login\" href=\"http://www.hanbit.co.kr/member/login.html \">\n",
      "    로그인\n",
      "   </a>\n",
      "  </li>\n",
      " </ul>\n",
      " <ul class=\"brand\">\n",
      "  <li>\n",
      "   <a href=\"http://www.hanbit.co.kr/media/\">\n",
      "    한빛미디어\n",
      "   </a>\n",
      "  </li>\n",
      "  <li>\n",
      "   <a href=\"http://www.hanbit.co.kr/academy/\">\n",
      "    한빛아카데미\n",
      "   </a>\n",
      "  </li>\n",
      " </ul>\n",
      "</div>\n"
     ]
    }
   ],
   "source": [
    "print(soup.prettify()) # 객체에 저장된 html 내용 확인"
   ]
  },
  {
   "cell_type": "markdown",
   "id": "5986c7df",
   "metadata": {},
   "source": [
    "# BeautifulSoup 연습하기 2"
   ]
  },
  {
   "cell_type": "markdown",
   "id": "7331f823",
   "metadata": {},
   "source": [
    "## 태그 파싱하기 - 지정된 한 개의 태그만 파싱"
   ]
  },
  {
   "cell_type": "code",
   "execution_count": 6,
   "id": "ba7b0a38",
   "metadata": {},
   "outputs": [
    {
     "data": {
      "text/plain": [
       "<h1 id=\"title\">한빛출판네트워크</h1>"
      ]
     },
     "execution_count": 6,
     "metadata": {},
     "output_type": "execute_result"
    }
   ],
   "source": [
    "soup.h1"
   ]
  },
  {
   "cell_type": "code",
   "execution_count": 7,
   "id": "4610c323",
   "metadata": {},
   "outputs": [
    {
     "data": {
      "text/plain": [
       "<h1 id=\"title\">한빛출판네트워크</h1>"
      ]
     },
     "execution_count": 7,
     "metadata": {},
     "output_type": "execute_result"
    }
   ],
   "source": [
    "tag_h1 = soup.h1\n",
    "tag_h1"
   ]
  },
  {
   "cell_type": "code",
   "execution_count": 8,
   "id": "c8d7b842",
   "metadata": {},
   "outputs": [
    {
     "data": {
      "text/plain": [
       "<div class=\"top\"><ul class=\"menu\"><li><a class=\"login\" href=\"http://www.hanbit.co.kr/member/login.html \">로그인 </a></li></ul><ul class=\"brand\"><li><a href=\"http://www.hanbit.co.kr/media/\">한빛미디어</a></li><li><a href=\"http://www.hanbit.co.kr/academy/\">한빛아카데미</a></li></ul></div>"
      ]
     },
     "execution_count": 8,
     "metadata": {},
     "output_type": "execute_result"
    }
   ],
   "source": [
    "tag_div = soup.div\n",
    "tag_div"
   ]
  },
  {
   "cell_type": "code",
   "execution_count": 9,
   "id": "3f08f29b",
   "metadata": {},
   "outputs": [
    {
     "data": {
      "text/plain": [
       "<ul class=\"menu\"><li><a class=\"login\" href=\"http://www.hanbit.co.kr/member/login.html \">로그인 </a></li></ul>"
      ]
     },
     "execution_count": 9,
     "metadata": {},
     "output_type": "execute_result"
    }
   ],
   "source": [
    "tag_ul = soup.ul\n",
    "tag_ul"
   ]
  },
  {
   "cell_type": "code",
   "execution_count": 10,
   "id": "d24cf3fe",
   "metadata": {},
   "outputs": [
    {
     "data": {
      "text/plain": [
       "<li><a class=\"login\" href=\"http://www.hanbit.co.kr/member/login.html \">로그인 </a></li>"
      ]
     },
     "execution_count": 10,
     "metadata": {},
     "output_type": "execute_result"
    }
   ],
   "source": [
    "tag_li = soup.li\n",
    "tag_li"
   ]
  },
  {
   "cell_type": "code",
   "execution_count": 11,
   "id": "954ad252",
   "metadata": {},
   "outputs": [
    {
     "data": {
      "text/plain": [
       "<a class=\"login\" href=\"http://www.hanbit.co.kr/member/login.html \">로그인 </a>"
      ]
     },
     "execution_count": 11,
     "metadata": {},
     "output_type": "execute_result"
    }
   ],
   "source": [
    "tag_a = soup.a\n",
    "tag_a"
   ]
  },
  {
   "cell_type": "markdown",
   "id": "97101c68",
   "metadata": {},
   "source": [
    "##  태그 파싱하기 - 지정된 태그 모두 파싱"
   ]
  },
  {
   "cell_type": "code",
   "execution_count": 12,
   "id": "66cda30f",
   "metadata": {},
   "outputs": [
    {
     "data": {
      "text/plain": [
       "[<ul class=\"menu\"><li><a class=\"login\" href=\"http://www.hanbit.co.kr/member/login.html \">로그인 </a></li></ul>,\n",
       " <ul class=\"brand\"><li><a href=\"http://www.hanbit.co.kr/media/\">한빛미디어</a></li><li><a href=\"http://www.hanbit.co.kr/academy/\">한빛아카데미</a></li></ul>]"
      ]
     },
     "execution_count": 12,
     "metadata": {},
     "output_type": "execute_result"
    }
   ],
   "source": [
    "tag_ul_all = soup.find_all(\"ul\")\n",
    "tag_ul_all"
   ]
  },
  {
   "cell_type": "code",
   "execution_count": 13,
   "id": "efb46933",
   "metadata": {},
   "outputs": [
    {
     "data": {
      "text/plain": [
       "[<li><a class=\"login\" href=\"http://www.hanbit.co.kr/member/login.html \">로그인 </a></li>,\n",
       " <li><a href=\"http://www.hanbit.co.kr/media/\">한빛미디어</a></li>,\n",
       " <li><a href=\"http://www.hanbit.co.kr/academy/\">한빛아카데미</a></li>]"
      ]
     },
     "execution_count": 13,
     "metadata": {},
     "output_type": "execute_result"
    }
   ],
   "source": [
    "tag_li_all = soup.find_all(\"li\")\n",
    "tag_li_all"
   ]
  },
  {
   "cell_type": "code",
   "execution_count": 14,
   "id": "1f3d086f",
   "metadata": {},
   "outputs": [
    {
     "data": {
      "text/plain": [
       "[<a class=\"login\" href=\"http://www.hanbit.co.kr/member/login.html \">로그인 </a>,\n",
       " <a href=\"http://www.hanbit.co.kr/media/\">한빛미디어</a>,\n",
       " <a href=\"http://www.hanbit.co.kr/academy/\">한빛아카데미</a>]"
      ]
     },
     "execution_count": 14,
     "metadata": {},
     "output_type": "execute_result"
    }
   ],
   "source": [
    "tag_a_all = soup.find_all(\"a\")\n",
    "tag_a_all"
   ]
  },
  {
   "cell_type": "markdown",
   "id": "c2c477ce",
   "metadata": {},
   "source": [
    "## 속성을 이용하여 파싱"
   ]
  },
  {
   "cell_type": "code",
   "execution_count": 15,
   "id": "39f8eebd",
   "metadata": {},
   "outputs": [
    {
     "data": {
      "text/plain": [
       "'http://www.hanbit.co.kr/member/login.html '"
      ]
     },
     "execution_count": 15,
     "metadata": {},
     "output_type": "execute_result"
    }
   ],
   "source": [
    "tag_a.attrs # 속성 이름 & 속성값으로 딕셔너리 구성\n",
    "tag_a['href']"
   ]
  },
  {
   "cell_type": "code",
   "execution_count": 16,
   "id": "2ca3235c",
   "metadata": {},
   "outputs": [
    {
     "data": {
      "text/plain": [
       "['login']"
      ]
     },
     "execution_count": 16,
     "metadata": {},
     "output_type": "execute_result"
    }
   ],
   "source": [
    "tag_a['class']"
   ]
  },
  {
   "cell_type": "code",
   "execution_count": 17,
   "id": "775cb888",
   "metadata": {},
   "outputs": [
    {
     "data": {
      "text/plain": [
       "<ul class=\"brand\"><li><a href=\"http://www.hanbit.co.kr/media/\">한빛미디어</a></li><li><a href=\"http://www.hanbit.co.kr/academy/\">한빛아카데미</a></li></ul>"
      ]
     },
     "execution_count": 17,
     "metadata": {},
     "output_type": "execute_result"
    }
   ],
   "source": [
    "tag_ul_2 = soup.find('ul', attrs = {'class':'brand'})\n",
    "tag_ul_2"
   ]
  },
  {
   "cell_type": "code",
   "execution_count": 18,
   "id": "d88151a4",
   "metadata": {},
   "outputs": [
    {
     "data": {
      "text/plain": [
       "<h1 id=\"title\">한빛출판네트워크</h1>"
      ]
     },
     "execution_count": 18,
     "metadata": {},
     "output_type": "execute_result"
    }
   ],
   "source": [
    "title = soup.find(id = \"title\")\n",
    "title"
   ]
  },
  {
   "cell_type": "code",
   "execution_count": 19,
   "id": "ada4c48c",
   "metadata": {},
   "outputs": [
    {
     "data": {
      "text/plain": [
       "'한빛출판네트워크'"
      ]
     },
     "execution_count": 19,
     "metadata": {},
     "output_type": "execute_result"
    }
   ],
   "source": [
    "title.string"
   ]
  },
  {
   "cell_type": "code",
   "execution_count": 20,
   "id": "8816e2c4",
   "metadata": {},
   "outputs": [
    {
     "data": {
      "text/plain": [
       "[<li><a href=\"http://www.hanbit.co.kr/media/\">한빛미디어</a></li>,\n",
       " <li><a href=\"http://www.hanbit.co.kr/academy/\">한빛아카데미</a></li>]"
      ]
     },
     "execution_count": 20,
     "metadata": {},
     "output_type": "execute_result"
    }
   ],
   "source": [
    "li_list = soup.select(\"div>ul.brand>li\")\n",
    "li_list"
   ]
  },
  {
   "cell_type": "code",
   "execution_count": 21,
   "id": "a945692f",
   "metadata": {},
   "outputs": [
    {
     "name": "stdout",
     "output_type": "stream",
     "text": [
      "한빛미디어\n",
      "한빛아카데미\n"
     ]
    }
   ],
   "source": [
    "for li in li_list:\n",
    "    print(li.string)"
   ]
  },
  {
   "cell_type": "markdown",
   "id": "5d659921",
   "metadata": {},
   "source": [
    "## 할리스 웹사이트 크롤링"
   ]
  },
  {
   "cell_type": "markdown",
   "id": "1cf0dbe8",
   "metadata": {},
   "source": [
    "ctrl+u 로 html 확인"
   ]
  },
  {
   "cell_type": "code",
   "execution_count": 56,
   "id": "f02e48f0",
   "metadata": {},
   "outputs": [
    {
     "name": "stdout",
     "output_type": "stream",
     "text": [
      "Collecting seleniumNote: you may need to restart the kernel to use updated packages.\n"
     ]
    },
    {
     "name": "stderr",
     "output_type": "stream",
     "text": [
      "ERROR: pip's dependency resolver does not currently take into account all the packages that are installed. This behaviour is the source of the following dependency conflicts.\n",
      "conda-repo-cli 1.0.4 requires pathlib, which is not installed.\n",
      "anaconda-project 0.9.1 requires ruamel-yaml, which is not installed."
     ]
    },
    {
     "name": "stdout",
     "output_type": "stream",
     "text": [
      "\n",
      "  Downloading selenium-4.8.2-py3-none-any.whl (6.9 MB)\n",
      "Requirement already satisfied: urllib3[socks]~=1.26 in c:\\users\\yttn0\\anaconda3\\lib\\site-packages (from selenium) (1.26.4)\n",
      "Collecting certifi>=2021.10.8\n",
      "  Downloading certifi-2022.12.7-py3-none-any.whl (155 kB)\n",
      "Collecting trio-websocket~=0.9\n",
      "  Downloading trio_websocket-0.10.2-py3-none-any.whl (17 kB)\n",
      "Collecting trio~=0.17\n",
      "  Downloading trio-0.22.0-py3-none-any.whl (384 kB)\n",
      "Requirement already satisfied: attrs>=19.2.0 in c:\\users\\yttn0\\anaconda3\\lib\\site-packages (from trio~=0.17->selenium) (20.3.0)\n",
      "Collecting outcome\n",
      "  Downloading outcome-1.2.0-py2.py3-none-any.whl (9.7 kB)\n",
      "Requirement already satisfied: sortedcontainers in c:\\users\\yttn0\\anaconda3\\lib\\site-packages (from trio~=0.17->selenium) (2.3.0)\n",
      "Requirement already satisfied: sniffio in c:\\users\\yttn0\\anaconda3\\lib\\site-packages (from trio~=0.17->selenium) (1.2.0)\n",
      "Requirement already satisfied: cffi>=1.14 in c:\\users\\yttn0\\anaconda3\\lib\\site-packages (from trio~=0.17->selenium) (1.14.5)\n",
      "Requirement already satisfied: async-generator>=1.9 in c:\\users\\yttn0\\anaconda3\\lib\\site-packages (from trio~=0.17->selenium) (1.10)\n",
      "Requirement already satisfied: idna in c:\\users\\yttn0\\anaconda3\\lib\\site-packages (from trio~=0.17->selenium) (2.10)\n",
      "Collecting exceptiongroup>=1.0.0rc9\n",
      "  Downloading exceptiongroup-1.1.1-py3-none-any.whl (14 kB)\n",
      "Requirement already satisfied: pycparser in c:\\users\\yttn0\\anaconda3\\lib\\site-packages (from cffi>=1.14->trio~=0.17->selenium) (2.20)\n",
      "Collecting wsproto>=0.14\n",
      "  Downloading wsproto-1.2.0-py3-none-any.whl (24 kB)\n",
      "Requirement already satisfied: PySocks!=1.5.7,<2.0,>=1.5.6 in c:\\users\\yttn0\\anaconda3\\lib\\site-packages (from urllib3[socks]~=1.26->selenium) (1.7.1)\n",
      "Collecting h11<1,>=0.9.0\n",
      "  Downloading h11-0.14.0-py3-none-any.whl (58 kB)\n",
      "Installing collected packages: outcome, h11, exceptiongroup, wsproto, trio, trio-websocket, certifi, selenium\n",
      "  Attempting uninstall: certifi\n",
      "    Found existing installation: certifi 2020.12.5\n",
      "    Uninstalling certifi-2020.12.5:\n",
      "      Successfully uninstalled certifi-2020.12.5\n",
      "Successfully installed certifi-2022.12.7 exceptiongroup-1.1.1 h11-0.14.0 outcome-1.2.0 selenium-4.8.2 trio-0.22.0 trio-websocket-0.10.2 wsproto-1.2.0\n"
     ]
    },
    {
     "name": "stderr",
     "output_type": "stream",
     "text": [
      "\n"
     ]
    }
   ],
   "source": [
    "pip install selenium"
   ]
  },
  {
   "cell_type": "code",
   "execution_count": 57,
   "id": "8c1e64df",
   "metadata": {},
   "outputs": [],
   "source": [
    "from bs4 import BeautifulSoup\n",
    "import urllib.request\n",
    "from selenium import webdriver"
   ]
  },
  {
   "cell_type": "code",
   "execution_count": 58,
   "id": "ba1afb84",
   "metadata": {},
   "outputs": [],
   "source": [
    "result =[]"
   ]
  },
  {
   "cell_type": "code",
   "execution_count": 65,
   "id": "d81afc2b",
   "metadata": {},
   "outputs": [
    {
     "name": "stdout",
     "output_type": "stream",
     "text": [
      "https://www.hollys.co.kr/store/korea/korStore.do?pageNo=1&sido=&gugun=&store=\n",
      "https://www.hollys.co.kr/store/korea/korStore.do?pageNo=2&sido=&gugun=&store=\n",
      "https://www.hollys.co.kr/store/korea/korStore.do?pageNo=3&sido=&gugun=&store=\n",
      "https://www.hollys.co.kr/store/korea/korStore.do?pageNo=4&sido=&gugun=&store=\n",
      "https://www.hollys.co.kr/store/korea/korStore.do?pageNo=5&sido=&gugun=&store=\n",
      "https://www.hollys.co.kr/store/korea/korStore.do?pageNo=6&sido=&gugun=&store=\n",
      "https://www.hollys.co.kr/store/korea/korStore.do?pageNo=7&sido=&gugun=&store=\n",
      "https://www.hollys.co.kr/store/korea/korStore.do?pageNo=8&sido=&gugun=&store=\n",
      "https://www.hollys.co.kr/store/korea/korStore.do?pageNo=9&sido=&gugun=&store=\n",
      "https://www.hollys.co.kr/store/korea/korStore.do?pageNo=10&sido=&gugun=&store=\n",
      "https://www.hollys.co.kr/store/korea/korStore.do?pageNo=11&sido=&gugun=&store=\n",
      "https://www.hollys.co.kr/store/korea/korStore.do?pageNo=12&sido=&gugun=&store=\n",
      "https://www.hollys.co.kr/store/korea/korStore.do?pageNo=13&sido=&gugun=&store=\n",
      "https://www.hollys.co.kr/store/korea/korStore.do?pageNo=14&sido=&gugun=&store=\n",
      "https://www.hollys.co.kr/store/korea/korStore.do?pageNo=15&sido=&gugun=&store=\n",
      "https://www.hollys.co.kr/store/korea/korStore.do?pageNo=16&sido=&gugun=&store=\n",
      "https://www.hollys.co.kr/store/korea/korStore.do?pageNo=17&sido=&gugun=&store=\n",
      "https://www.hollys.co.kr/store/korea/korStore.do?pageNo=18&sido=&gugun=&store=\n",
      "https://www.hollys.co.kr/store/korea/korStore.do?pageNo=19&sido=&gugun=&store=\n",
      "https://www.hollys.co.kr/store/korea/korStore.do?pageNo=20&sido=&gugun=&store=\n",
      "https://www.hollys.co.kr/store/korea/korStore.do?pageNo=21&sido=&gugun=&store=\n",
      "https://www.hollys.co.kr/store/korea/korStore.do?pageNo=22&sido=&gugun=&store=\n",
      "https://www.hollys.co.kr/store/korea/korStore.do?pageNo=23&sido=&gugun=&store=\n",
      "https://www.hollys.co.kr/store/korea/korStore.do?pageNo=24&sido=&gugun=&store=\n",
      "https://www.hollys.co.kr/store/korea/korStore.do?pageNo=25&sido=&gugun=&store=\n",
      "https://www.hollys.co.kr/store/korea/korStore.do?pageNo=26&sido=&gugun=&store=\n",
      "https://www.hollys.co.kr/store/korea/korStore.do?pageNo=27&sido=&gugun=&store=\n",
      "https://www.hollys.co.kr/store/korea/korStore.do?pageNo=28&sido=&gugun=&store=\n",
      "https://www.hollys.co.kr/store/korea/korStore.do?pageNo=29&sido=&gugun=&store=\n",
      "https://www.hollys.co.kr/store/korea/korStore.do?pageNo=30&sido=&gugun=&store=\n",
      "https://www.hollys.co.kr/store/korea/korStore.do?pageNo=31&sido=&gugun=&store=\n",
      "https://www.hollys.co.kr/store/korea/korStore.do?pageNo=32&sido=&gugun=&store=\n",
      "https://www.hollys.co.kr/store/korea/korStore.do?pageNo=33&sido=&gugun=&store=\n",
      "https://www.hollys.co.kr/store/korea/korStore.do?pageNo=34&sido=&gugun=&store=\n",
      "https://www.hollys.co.kr/store/korea/korStore.do?pageNo=35&sido=&gugun=&store=\n",
      "https://www.hollys.co.kr/store/korea/korStore.do?pageNo=36&sido=&gugun=&store=\n",
      "https://www.hollys.co.kr/store/korea/korStore.do?pageNo=37&sido=&gugun=&store=\n",
      "https://www.hollys.co.kr/store/korea/korStore.do?pageNo=38&sido=&gugun=&store=\n",
      "https://www.hollys.co.kr/store/korea/korStore.do?pageNo=39&sido=&gugun=&store=\n",
      "https://www.hollys.co.kr/store/korea/korStore.do?pageNo=40&sido=&gugun=&store=\n",
      "https://www.hollys.co.kr/store/korea/korStore.do?pageNo=41&sido=&gugun=&store=\n",
      "https://www.hollys.co.kr/store/korea/korStore.do?pageNo=42&sido=&gugun=&store=\n",
      "https://www.hollys.co.kr/store/korea/korStore.do?pageNo=43&sido=&gugun=&store=\n",
      "https://www.hollys.co.kr/store/korea/korStore.do?pageNo=44&sido=&gugun=&store=\n",
      "https://www.hollys.co.kr/store/korea/korStore.do?pageNo=45&sido=&gugun=&store=\n",
      "https://www.hollys.co.kr/store/korea/korStore.do?pageNo=46&sido=&gugun=&store=\n",
      "https://www.hollys.co.kr/store/korea/korStore.do?pageNo=47&sido=&gugun=&store=\n",
      "https://www.hollys.co.kr/store/korea/korStore.do?pageNo=48&sido=&gugun=&store=\n",
      "https://www.hollys.co.kr/store/korea/korStore.do?pageNo=49&sido=&gugun=&store=\n",
      "https://www.hollys.co.kr/store/korea/korStore.do?pageNo=50&sido=&gugun=&store=\n",
      "https://www.hollys.co.kr/store/korea/korStore.do?pageNo=51&sido=&gugun=&store=\n",
      "https://www.hollys.co.kr/store/korea/korStore.do?pageNo=52&sido=&gugun=&store=\n",
      "https://www.hollys.co.kr/store/korea/korStore.do?pageNo=53&sido=&gugun=&store=\n",
      "https://www.hollys.co.kr/store/korea/korStore.do?pageNo=54&sido=&gugun=&store=\n",
      "https://www.hollys.co.kr/store/korea/korStore.do?pageNo=55&sido=&gugun=&store=\n",
      "https://www.hollys.co.kr/store/korea/korStore.do?pageNo=56&sido=&gugun=&store=\n",
      "https://www.hollys.co.kr/store/korea/korStore.do?pageNo=57&sido=&gugun=&store=\n",
      "https://www.hollys.co.kr/store/korea/korStore.do?pageNo=58&sido=&gugun=&store=\n"
     ]
    }
   ],
   "source": [
    "for page in range(1,59):\n",
    "    Hollys_url = 'https://www.hollys.co.kr/store/korea/korStore.do?pageNo=%d&sido=&gugun=&store=' %page\n",
    "    print(Hollys_url)\n",
    "    html = urllib.request.urlopen(Hollys_url)\n",
    "    soupHollys = BeautifulSoup(html, 'html.parser')\n",
    "    tag_tbody = soupHollys.find('tbody')\n",
    "    for store in tag_tbody.find_all('tr'):\n",
    "        if len(store) <= 3:\n",
    "            break\n",
    "        store_td = store.find_all('td')\n",
    "        store_name = store_td[1].string\n",
    "        store_sido = store_td[0].string\n",
    "        store_address = store_td[3].string\n",
    "        store_phone = store_td[5].string\n",
    "        result.append([store_name]+[store_sido]+[store_address]+[store_phone])"
   ]
  },
  {
   "cell_type": "code",
   "execution_count": 67,
   "id": "5183b478",
   "metadata": {},
   "outputs": [],
   "source": [
    "hollys_tbl = pd.DataFrame(result, columns = ('store', 'sido-gu', 'address', 'phone'))"
   ]
  },
  {
   "cell_type": "code",
   "execution_count": 68,
   "id": "85cdd435",
   "metadata": {},
   "outputs": [],
   "source": [
    "hollys_tbl.to_csv(\"hollys2.csv\", encoding = \"cp949\", mode = \"w\", index = True)"
   ]
  },
  {
   "cell_type": "code",
   "execution_count": null,
   "id": "49bcf554",
   "metadata": {},
   "outputs": [],
   "source": []
  }
 ],
 "metadata": {
  "kernelspec": {
   "display_name": "Python 3",
   "language": "python",
   "name": "python3"
  },
  "language_info": {
   "codemirror_mode": {
    "name": "ipython",
    "version": 3
   },
   "file_extension": ".py",
   "mimetype": "text/x-python",
   "name": "python",
   "nbconvert_exporter": "python",
   "pygments_lexer": "ipython3",
   "version": "3.8.8"
  }
 },
 "nbformat": 4,
 "nbformat_minor": 5
}
